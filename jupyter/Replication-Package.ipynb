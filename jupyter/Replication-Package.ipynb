{
 "cells": [
  {
   "cell_type": "code",
   "execution_count": 1,
   "id": "65dabe4d",
   "metadata": {
    "ExecuteTime": {
     "end_time": "2022-03-21T18:15:26.509971Z",
     "start_time": "2022-03-21T18:15:25.482956Z"
    }
   },
   "outputs": [],
   "source": [
    "import pandas as pd"
   ]
  },
  {
   "cell_type": "markdown",
   "id": "350718d4",
   "metadata": {},
   "source": [
    "## Analyze all log statements "
   ]
  },
  {
   "cell_type": "markdown",
   "id": "f8e36af5",
   "metadata": {},
   "source": [
    "### Load the sampled log statements"
   ]
  },
  {
   "cell_type": "code",
   "execution_count": 2,
   "id": "08cf5b19",
   "metadata": {
    "ExecuteTime": {
     "end_time": "2022-03-21T18:16:59.950330Z",
     "start_time": "2022-03-21T18:16:59.903117Z"
    }
   },
   "outputs": [],
   "source": [
    "pickle_path = \"../data/sampled_logs.csv\"\n",
    "sampled_logs = pd.read_csv(pickle_path)"
   ]
  },
  {
   "cell_type": "code",
   "execution_count": 3,
   "id": "9cb5cad2",
   "metadata": {
    "ExecuteTime": {
     "end_time": "2022-03-21T18:17:06.881615Z",
     "start_time": "2022-03-21T18:17:06.811085Z"
    }
   },
   "outputs": [
    {
     "data": {
      "text/html": [
       "<div>\n",
       "<style scoped>\n",
       "    .dataframe tbody tr th:only-of-type {\n",
       "        vertical-align: middle;\n",
       "    }\n",
       "\n",
       "    .dataframe tbody tr th {\n",
       "        vertical-align: top;\n",
       "    }\n",
       "\n",
       "    .dataframe thead th {\n",
       "        text-align: right;\n",
       "    }\n",
       "</style>\n",
       "<table border=\"1\" class=\"dataframe\">\n",
       "  <thead>\n",
       "    <tr style=\"text-align: right;\">\n",
       "      <th></th>\n",
       "      <th>Project</th>\n",
       "      <th>log ID</th>\n",
       "      <th>Log</th>\n",
       "      <th>Log level</th>\n",
       "      <th>Log URL</th>\n",
       "      <th>Code(double click)</th>\n",
       "      <th>Log content relation</th>\n",
       "      <th>Log-code relation</th>\n",
       "    </tr>\n",
       "  </thead>\n",
       "  <tbody>\n",
       "    <tr>\n",
       "      <th>0</th>\n",
       "      <td>activemq</td>\n",
       "      <td>19634</td>\n",
       "      <td>LOG.debug(\"{} started XA transaction {}\", this...</td>\n",
       "      <td>debug</td>\n",
       "      <td>https://github.com/apache/activemq/blob/main/a...</td>\n",
       "      <td>private void setXid(Xid xid) throws XAExceptio...</td>\n",
       "      <td>NaN</td>\n",
       "      <td>right after</td>\n",
       "    </tr>\n",
       "    <tr>\n",
       "      <th>1</th>\n",
       "      <td>activemq</td>\n",
       "      <td>19295</td>\n",
       "      <td>LOG.trace(\"MQTT--&gt;ActiveMQ: MQTT_MSGID:{} clie...</td>\n",
       "      <td>trace</td>\n",
       "      <td>https://github.com/apache/activemq/blob/main/a...</td>\n",
       "      <td>ActiveMQMessage convertMessage(PUBLISH command...</td>\n",
       "      <td>NaN</td>\n",
       "      <td>NaN</td>\n",
       "    </tr>\n",
       "    <tr>\n",
       "      <th>2</th>\n",
       "      <td>activemq</td>\n",
       "      <td>19535</td>\n",
       "      <td>LOG.debug(\"{} received with excessive redelive...</td>\n",
       "      <td>debug</td>\n",
       "      <td>https://github.com/apache/activemq/blob/main/a...</td>\n",
       "      <td>private MessageDispatch dequeue(long timeout) ...</td>\n",
       "      <td>NaN</td>\n",
       "      <td>NaN</td>\n",
       "    </tr>\n",
       "    <tr>\n",
       "      <th>3</th>\n",
       "      <td>activemq</td>\n",
       "      <td>18908</td>\n",
       "      <td>LOG.info(\"no limits set, slowConsumer strategy...</td>\n",
       "      <td>info</td>\n",
       "      <td>https://github.com/apache/activemq/blob/main/a...</td>\n",
       "      <td>@Override\\n    public void slowConsumer(Connec...</td>\n",
       "      <td>NaN</td>\n",
       "      <td>NaN</td>\n",
       "    </tr>\n",
       "    <tr>\n",
       "      <th>4</th>\n",
       "      <td>activemq</td>\n",
       "      <td>19815</td>\n",
       "      <td>LOG.trace(\"Ignoring exception on close as disc...</td>\n",
       "      <td>trace</td>\n",
       "      <td>https://github.com/apache/activemq/blob/main/a...</td>\n",
       "      <td>@Override\\n    public void close() throws JMSE...</td>\n",
       "      <td>NaN</td>\n",
       "      <td>NaN</td>\n",
       "    </tr>\n",
       "    <tr>\n",
       "      <th>...</th>\n",
       "      <td>...</td>\n",
       "      <td>...</td>\n",
       "      <td>...</td>\n",
       "      <td>...</td>\n",
       "      <td>...</td>\n",
       "      <td>...</td>\n",
       "      <td>...</td>\n",
       "      <td>...</td>\n",
       "    </tr>\n",
       "    <tr>\n",
       "      <th>1350</th>\n",
       "      <td>jmeter</td>\n",
       "      <td>14349</td>\n",
       "      <td>log.debug(\"Writing header to file: {}\", filename)</td>\n",
       "      <td>debug</td>\n",
       "      <td>https://github.com/apache/jmeter/blob/master/s...</td>\n",
       "      <td>private static PrintWriter getFileWriter(final...</td>\n",
       "      <td>NaN</td>\n",
       "      <td>NaN</td>\n",
       "    </tr>\n",
       "    <tr>\n",
       "      <th>1351</th>\n",
       "      <td>jmeter</td>\n",
       "      <td>14958</td>\n",
       "      <td>log.warn(\"Cannot read init file: {}\", fileToUse)</td>\n",
       "      <td>warn</td>\n",
       "      <td>https://github.com/apache/jmeter/blob/master/s...</td>\n",
       "      <td>private void init() throws ClassNotFoundExcept...</td>\n",
       "      <td>NaN</td>\n",
       "      <td>NaN</td>\n",
       "    </tr>\n",
       "    <tr>\n",
       "      <th>1352</th>\n",
       "      <td>jmeter</td>\n",
       "      <td>13734</td>\n",
       "      <td>log.error(\"Error instantiating class:{}:{}\", t...</td>\n",
       "      <td>error</td>\n",
       "      <td>https://github.com/apache/jmeter/blob/master/s...</td>\n",
       "      <td>private static Object getClassInstance(String ...</td>\n",
       "      <td>NaN</td>\n",
       "      <td>NaN</td>\n",
       "    </tr>\n",
       "    <tr>\n",
       "      <th>1353</th>\n",
       "      <td>jmeter</td>\n",
       "      <td>14788</td>\n",
       "      <td>log.warn(\"Engine is busy - cannot create JMete...</td>\n",
       "      <td>warn</td>\n",
       "      <td>https://github.com/apache/jmeter/blob/master/s...</td>\n",
       "      <td>@Override\\n    public void rconfigure(HashTree...</td>\n",
       "      <td>NaN</td>\n",
       "      <td>NaN</td>\n",
       "    </tr>\n",
       "    <tr>\n",
       "      <th>1354</th>\n",
       "      <td>jmeter</td>\n",
       "      <td>15117</td>\n",
       "      <td>log.debug(\"Subtracting node, stack size = {}\",...</td>\n",
       "      <td>debug</td>\n",
       "      <td>https://github.com/apache/jmeter/blob/master/s...</td>\n",
       "      <td>@Override\\n    public void subtractNode() {\\n ...</td>\n",
       "      <td>NaN</td>\n",
       "      <td>NaN</td>\n",
       "    </tr>\n",
       "  </tbody>\n",
       "</table>\n",
       "<p>1355 rows × 8 columns</p>\n",
       "</div>"
      ],
      "text/plain": [
       "       Project  log ID                                                Log  \\\n",
       "0     activemq   19634  LOG.debug(\"{} started XA transaction {}\", this...   \n",
       "1     activemq   19295  LOG.trace(\"MQTT-->ActiveMQ: MQTT_MSGID:{} clie...   \n",
       "2     activemq   19535  LOG.debug(\"{} received with excessive redelive...   \n",
       "3     activemq   18908  LOG.info(\"no limits set, slowConsumer strategy...   \n",
       "4     activemq   19815  LOG.trace(\"Ignoring exception on close as disc...   \n",
       "...        ...     ...                                                ...   \n",
       "1350    jmeter   14349  log.debug(\"Writing header to file: {}\", filename)   \n",
       "1351    jmeter   14958   log.warn(\"Cannot read init file: {}\", fileToUse)   \n",
       "1352    jmeter   13734  log.error(\"Error instantiating class:{}:{}\", t...   \n",
       "1353    jmeter   14788  log.warn(\"Engine is busy - cannot create JMete...   \n",
       "1354    jmeter   15117  log.debug(\"Subtracting node, stack size = {}\",...   \n",
       "\n",
       "     Log level                                            Log URL  \\\n",
       "0        debug  https://github.com/apache/activemq/blob/main/a...   \n",
       "1        trace  https://github.com/apache/activemq/blob/main/a...   \n",
       "2        debug  https://github.com/apache/activemq/blob/main/a...   \n",
       "3         info  https://github.com/apache/activemq/blob/main/a...   \n",
       "4        trace  https://github.com/apache/activemq/blob/main/a...   \n",
       "...        ...                                                ...   \n",
       "1350     debug  https://github.com/apache/jmeter/blob/master/s...   \n",
       "1351      warn  https://github.com/apache/jmeter/blob/master/s...   \n",
       "1352     error  https://github.com/apache/jmeter/blob/master/s...   \n",
       "1353      warn  https://github.com/apache/jmeter/blob/master/s...   \n",
       "1354     debug  https://github.com/apache/jmeter/blob/master/s...   \n",
       "\n",
       "                                     Code(double click)  Log content relation  \\\n",
       "0     private void setXid(Xid xid) throws XAExceptio...                   NaN   \n",
       "1     ActiveMQMessage convertMessage(PUBLISH command...                   NaN   \n",
       "2     private MessageDispatch dequeue(long timeout) ...                   NaN   \n",
       "3     @Override\\n    public void slowConsumer(Connec...                   NaN   \n",
       "4     @Override\\n    public void close() throws JMSE...                   NaN   \n",
       "...                                                 ...                   ...   \n",
       "1350  private static PrintWriter getFileWriter(final...                   NaN   \n",
       "1351  private void init() throws ClassNotFoundExcept...                   NaN   \n",
       "1352  private static Object getClassInstance(String ...                   NaN   \n",
       "1353  @Override\\n    public void rconfigure(HashTree...                   NaN   \n",
       "1354  @Override\\n    public void subtractNode() {\\n ...                   NaN   \n",
       "\n",
       "     Log-code relation  \n",
       "0          right after  \n",
       "1                  NaN  \n",
       "2                  NaN  \n",
       "3                  NaN  \n",
       "4                  NaN  \n",
       "...                ...  \n",
       "1350               NaN  \n",
       "1351               NaN  \n",
       "1352               NaN  \n",
       "1353               NaN  \n",
       "1354               NaN  \n",
       "\n",
       "[1355 rows x 8 columns]"
      ]
     },
     "execution_count": 3,
     "metadata": {},
     "output_type": "execute_result"
    }
   ],
   "source": [
    "sampled_logs"
   ]
  },
  {
   "cell_type": "markdown",
   "id": "5fd98ef5",
   "metadata": {},
   "source": [
    "**Note**:\n",
    "\n",
    "All the data are sampled using a 95% confidence level with a confidence interval of 5:\n",
    "\n",
    "Hadoop: 13204 -> \n",
    "\n",
    "Jmeter: 1932 ->\n",
    "\n",
    "Tomcat: 2590 ->\n",
    "\n",
    "ActivqMQ: 2139 ->"
   ]
  },
  {
   "cell_type": "code",
   "execution_count": 4,
   "id": "c0cebc57",
   "metadata": {
    "ExecuteTime": {
     "end_time": "2022-03-21T18:17:51.908065Z",
     "start_time": "2022-03-21T18:17:51.895392Z"
    }
   },
   "outputs": [
    {
     "data": {
      "text/plain": [
       "(326, 8)"
      ]
     },
     "execution_count": 4,
     "metadata": {},
     "output_type": "execute_result"
    }
   ],
   "source": [
    "sampled_logs.loc[sampled_logs['Project'] == 'activemq'].shape"
   ]
  },
  {
   "cell_type": "code",
   "execution_count": 5,
   "id": "a7426716",
   "metadata": {
    "ExecuteTime": {
     "end_time": "2022-03-21T18:17:53.645907Z",
     "start_time": "2022-03-21T18:17:53.633905Z"
    }
   },
   "outputs": [
    {
     "data": {
      "text/plain": [
       "(321, 8)"
      ]
     },
     "execution_count": 5,
     "metadata": {},
     "output_type": "execute_result"
    }
   ],
   "source": [
    "sampled_logs.loc[sampled_logs['Project'] == 'jmeter'].shape"
   ]
  },
  {
   "cell_type": "code",
   "execution_count": 6,
   "id": "28a24033",
   "metadata": {
    "ExecuteTime": {
     "end_time": "2022-03-21T18:17:57.351093Z",
     "start_time": "2022-03-21T18:17:57.339128Z"
    }
   },
   "outputs": [
    {
     "data": {
      "text/plain": [
       "(373, 8)"
      ]
     },
     "execution_count": 6,
     "metadata": {},
     "output_type": "execute_result"
    }
   ],
   "source": [
    "sampled_logs.loc[sampled_logs['Project'] == 'hadoop'].shape"
   ]
  },
  {
   "cell_type": "code",
   "execution_count": 7,
   "id": "1b60d5ee",
   "metadata": {
    "ExecuteTime": {
     "end_time": "2022-03-21T18:18:00.619660Z",
     "start_time": "2022-03-21T18:18:00.607948Z"
    }
   },
   "outputs": [
    {
     "data": {
      "text/plain": [
       "(335, 8)"
      ]
     },
     "execution_count": 7,
     "metadata": {},
     "output_type": "execute_result"
    }
   ],
   "source": [
    "sampled_logs.loc[sampled_logs['Project'] == 'tomcat'].shape"
   ]
  },
  {
   "cell_type": "markdown",
   "id": "2e620eaa",
   "metadata": {},
   "source": [
    "### Get all data from database"
   ]
  },
  {
   "cell_type": "code",
   "execution_count": 11,
   "id": "ae75deea",
   "metadata": {
    "ExecuteTime": {
     "end_time": "2022-03-21T18:20:00.930917Z",
     "start_time": "2022-03-21T18:20:00.925663Z"
    }
   },
   "outputs": [],
   "source": [
    "import psycopg2\n",
    "import json"
   ]
  },
  {
   "cell_type": "code",
   "execution_count": 12,
   "id": "fbdf7433",
   "metadata": {
    "ExecuteTime": {
     "end_time": "2022-03-21T18:20:01.381375Z",
     "start_time": "2022-03-21T18:20:01.285218Z"
    }
   },
   "outputs": [],
   "source": [
    "with open('../config.json', 'r') as f:\n",
    "    config = json.load(f)\n",
    "\n",
    "conn = psycopg2.connect(database=config['db']['database'], user=config['db']['user'], password=config['db']['password'], host=config['db']['host'],\n",
    "                        port=config['db']['port'])"
   ]
  },
  {
   "cell_type": "code",
   "execution_count": 13,
   "id": "aff92873",
   "metadata": {
    "ExecuteTime": {
     "end_time": "2022-03-21T18:20:11.592667Z",
     "start_time": "2022-03-21T18:20:11.590490Z"
    }
   },
   "outputs": [],
   "source": [
    "def fetch_all_logs():\n",
    "    cur = conn.cursor()\n",
    "    sql = \"select * from log_statements_for_log_code_inconsistency_detection where commit IS NULL order by id limit 19865;\"\n",
    "    cur.execute(sql)\n",
    "    rows = cur.fetchall()\n",
    "    cur.close()\n",
    "    return rows"
   ]
  },
  {
   "cell_type": "code",
   "execution_count": 14,
   "id": "4357b97b",
   "metadata": {
    "ExecuteTime": {
     "end_time": "2022-03-21T18:20:17.059756Z",
     "start_time": "2022-03-21T18:20:16.046059Z"
    }
   },
   "outputs": [],
   "source": [
    "all_logs = fetch_all_logs()"
   ]
  },
  {
   "cell_type": "code",
   "execution_count": 15,
   "id": "5391eb57",
   "metadata": {
    "ExecuteTime": {
     "end_time": "2022-03-21T18:20:19.950626Z",
     "start_time": "2022-03-21T18:20:19.948067Z"
    }
   },
   "outputs": [
    {
     "data": {
      "text/plain": [
       "(19865,\n",
       " ('hadoop/hadoop-yarn-project/hadoop-yarn/hadoop-yarn-client/src/main/java/org/apache/hadoop/yarn/client/cli/TopCLI.java',\n",
       "  'LOG.error(\"Caught exception\", e)',\n",
       "  385,\n",
       "  385,\n",
       "  1,\n",
       "  None,\n",
       "  385,\n",
       "  385,\n",
       "  21,\n",
       "  38,\n",
       "  'hadoop',\n",
       "  None))"
      ]
     },
     "execution_count": 15,
     "metadata": {},
     "output_type": "execute_result"
    }
   ],
   "source": [
    "len(all_logs), all_logs[0]"
   ]
  },
  {
   "cell_type": "markdown",
   "id": "740c227e",
   "metadata": {},
   "source": [
    "### Get all logs need to be detected"
   ]
  },
  {
   "cell_type": "code",
   "execution_count": 16,
   "id": "a27b926e",
   "metadata": {
    "ExecuteTime": {
     "end_time": "2022-03-21T18:20:54.721172Z",
     "start_time": "2022-03-21T18:20:54.716471Z"
    }
   },
   "outputs": [],
   "source": [
    "sampled_logs_ids = sampled_logs['log ID'].tolist()"
   ]
  },
  {
   "cell_type": "code",
   "execution_count": 17,
   "id": "3f3e52a0",
   "metadata": {
    "ExecuteTime": {
     "end_time": "2022-03-21T18:20:56.261623Z",
     "start_time": "2022-03-21T18:20:56.126293Z"
    }
   },
   "outputs": [],
   "source": [
    "logs_to_check = []\n",
    "for log_record in all_logs:\n",
    "    if log_record[4] in sampled_logs_ids:\n",
    "        continue\n",
    "    else:\n",
    "        logs_to_check.append(log_record)"
   ]
  },
  {
   "cell_type": "code",
   "execution_count": 18,
   "id": "18873f99",
   "metadata": {
    "ExecuteTime": {
     "end_time": "2022-03-21T18:21:03.184803Z",
     "start_time": "2022-03-21T18:21:03.176412Z"
    }
   },
   "outputs": [
    {
     "data": {
      "text/plain": [
       "18510"
      ]
     },
     "execution_count": 18,
     "metadata": {},
     "output_type": "execute_result"
    }
   ],
   "source": [
    "len(logs_to_check)"
   ]
  },
  {
   "cell_type": "code",
   "execution_count": 19,
   "id": "bb79fcbb",
   "metadata": {
    "ExecuteTime": {
     "end_time": "2022-03-21T18:21:12.031986Z",
     "start_time": "2022-03-21T18:21:12.026115Z"
    }
   },
   "outputs": [],
   "source": [
    "log_stat_records = [x[1] for x in logs_to_check]"
   ]
  },
  {
   "cell_type": "code",
   "execution_count": 20,
   "id": "ded2522e",
   "metadata": {
    "ExecuteTime": {
     "end_time": "2022-03-21T18:21:16.424517Z",
     "start_time": "2022-03-21T18:21:16.422060Z"
    }
   },
   "outputs": [
    {
     "data": {
      "text/plain": [
       "(18510, 'LOG.error(\"Caught exception\", e)')"
      ]
     },
     "execution_count": 20,
     "metadata": {},
     "output_type": "execute_result"
    }
   ],
   "source": [
    "len(log_stat_records),log_stat_records[0]"
   ]
  },
  {
   "cell_type": "markdown",
   "id": "996de267",
   "metadata": {},
   "source": [
    "### Log text extraction: process the raw data "
   ]
  },
  {
   "cell_type": "code",
   "execution_count": 21,
   "id": "bc67cca1",
   "metadata": {
    "ExecuteTime": {
     "end_time": "2022-03-21T18:22:49.452814Z",
     "start_time": "2022-03-21T18:22:49.449860Z"
    }
   },
   "outputs": [],
   "source": [
    "import pickle\n",
    "\n",
    "with open('../data/all_local_strings.pkl', 'rb') as f:\n",
    "    all_local_strings = pickle.load(f)"
   ]
  },
  {
   "cell_type": "code",
   "execution_count": 22,
   "id": "d94bbbf7",
   "metadata": {
    "ExecuteTime": {
     "end_time": "2022-03-21T18:23:12.481262Z",
     "start_time": "2022-03-21T18:23:12.195285Z"
    }
   },
   "outputs": [],
   "source": [
    "import re\n",
    "from bs4 import BeautifulSoup\n",
    "import subprocess\n",
    "\n",
    "\n",
    "def get_xml_representation(log_message):\n",
    "    with open('tmp.java', 'w') as f:\n",
    "        f.write(log_message)\n",
    "    _cmd_srcml = \"srcml {} -o {}\"\n",
    "    subprocess.getoutput(_cmd_srcml.format('tmp.java', 'tmp.xml'))\n",
    "\n",
    "    \n",
    "def check_previous_sibling_operator(node):\n",
    "    if node.previous_sibling is None:\n",
    "        return False\n",
    "    if node.previous_sibling.name is None:\n",
    "        node = node.previous_sibling\n",
    "    node = node.previous_sibling\n",
    "    if node is not None and node.string.strip() == '+':\n",
    "        return True\n",
    "    else:\n",
    "        return False\n",
    "    \n",
    "    \n",
    "def check_next_sibling_operator(node):\n",
    "    if node.next_sibling is None:\n",
    "        return False\n",
    "    if node.next_sibling.name is None:\n",
    "        node = node.next_sibling\n",
    "    node = node.next_sibling\n",
    "    if node is not None and node.string.strip() == '+':\n",
    "        if node.next_sibling.name is None:\n",
    "            node = node.next_sibling\n",
    "        if node.next_sibling is not None and node.next_sibling.name == 'literal':\n",
    "            return False\n",
    "        else:\n",
    "            return True\n",
    "    else:\n",
    "        return False\n",
    "\n",
    "    \n",
    "def check_ternary(node):\n",
    "    if node.name == 'literal':\n",
    "        for x in node.parents:\n",
    "            if x.name == \"ternary\":\n",
    "                return False\n",
    "        return True\n",
    "    else:\n",
    "        return False\n",
    "\n",
    "\n",
    "def replace_placeholder(log_text):\n",
    "    pattern = re.compile(r'((%[^A-Za-z]*[a-hnostx]+)|{\\d*})')\n",
    "    return re.sub(pattern, ' VID ', log_text)\n",
    "\n",
    "\n",
    "def replace_local_strings(all_local_strings, log_stat_stripped_no_localizer):\n",
    "    for string_key, string_value in all_local_strings.items():\n",
    "        if '\"'+string_key+'\"' in log_stat_stripped_no_localizer:\n",
    "            log_stat_stripped_no_localizer = log_stat_stripped_no_localizer.replace(string_key,\n",
    "                                                                                    string_value)\n",
    "            return log_stat_stripped_no_localizer.replace('[{', '{').replace('}]', '}')\n",
    "    return log_stat_stripped_no_localizer\n",
    "\n",
    "\n",
    "def check_local_str_replace(all_local_strings, log_stat):\n",
    "    if \"Localizer.getMessage\" in log_stat or \"sm.getString\" in log_stat:\n",
    "        log_stat = replace_local_strings(all_local_strings, log_stat)\n",
    "    return log_stat\n",
    "\n",
    "def extract_text_from_log_stat(all_local_strings, log_stat):\n",
    "    log_stat = check_local_str_replace(all_local_strings, log_stat)\n",
    "    final_text = []\n",
    "    pattern = re.compile(r'((%[^A-Za-z]*[a-hnostx]+)|{\\d*})')\n",
    "    log_message = re.search(\"\\(((.|\\n)*)\\)\", log_stat).group(1)\n",
    "    get_xml_representation(log_message)\n",
    "    soup = BeautifulSoup(open('tmp.xml'), \"xml\")\n",
    "    log_text_list = soup.find_all(check_ternary)\n",
    "    for log_text_id, log_text in enumerate(log_text_list):\n",
    "        if log_text_id == 0 and check_previous_sibling_operator(log_text):\n",
    "            final_text.append(\"VID\")\n",
    "            final_text.append(log_text.string.replace('\"', ''))\n",
    "            if check_next_sibling_operator(log_text):\n",
    "                final_text.append(\"VID\")\n",
    "        else:\n",
    "            if re.search(pattern, log_text.string) is not None:\n",
    "                final_text.append(replace_placeholder(log_text.string))\n",
    "            else:\n",
    "                final_text.append(log_text.string.replace('\"', ''))\n",
    "                if check_next_sibling_operator(log_text):\n",
    "                    final_text.append(\"VID\")\n",
    "    return ' '.join(final_text).replace('\"', '')"
   ]
  },
  {
   "cell_type": "code",
   "execution_count": null,
   "id": "e162d88d",
   "metadata": {},
   "outputs": [],
   "source": [
    "logs_text = [extract_text_from_log_stat(all_local_strings, x) for x in log_stat_records]"
   ]
  },
  {
   "cell_type": "markdown",
   "id": "8aed4db7",
   "metadata": {},
   "source": [
    "### Detect the tensen of the log text"
   ]
  },
  {
   "cell_type": "code",
   "execution_count": 23,
   "id": "fe42782d",
   "metadata": {
    "ExecuteTime": {
     "end_time": "2022-03-21T18:24:39.988932Z",
     "start_time": "2022-03-21T18:24:39.987151Z"
    }
   },
   "outputs": [],
   "source": [
    "import sys\n",
    "sys.path.append('../')"
   ]
  },
  {
   "cell_type": "code",
   "execution_count": 24,
   "id": "429d849e",
   "metadata": {
    "ExecuteTime": {
     "end_time": "2022-03-21T18:25:33.331233Z",
     "start_time": "2022-03-21T18:25:19.906513Z"
    }
   },
   "outputs": [],
   "source": [
    "import importlib\n",
    "import tempolo_semantic\n",
    "from tempolo_semantic import get_log_content_rel"
   ]
  },
  {
   "cell_type": "code",
   "execution_count": 25,
   "id": "6b8a4795",
   "metadata": {
    "ExecuteTime": {
     "end_time": "2022-03-21T18:26:24.576406Z",
     "start_time": "2022-03-21T18:26:24.406287Z"
    }
   },
   "outputs": [
    {
     "data": {
      "text/plain": [
       "'after'"
      ]
     },
     "execution_count": 25,
     "metadata": {},
     "output_type": "execute_result"
    }
   ],
   "source": [
    "test_log_text = \"Can't handle this event at current state\"\n",
    "get_log_content_rel(test_log_text)"
   ]
  },
  {
   "cell_type": "code",
   "execution_count": null,
   "id": "c58cd2a7",
   "metadata": {},
   "outputs": [],
   "source": [
    "logs_realtion = []\n",
    "for x in tqdm(logs_text):\n",
    "    logs_realtion.append(get_log_content_rel(x))"
   ]
  },
  {
   "cell_type": "markdown",
   "id": "619893fb",
   "metadata": {},
   "source": [
    "### Detect inconsistency"
   ]
  },
  {
   "cell_type": "code",
   "execution_count": 27,
   "id": "87f0c59a",
   "metadata": {
    "ExecuteTime": {
     "end_time": "2022-03-21T18:27:38.349183Z",
     "start_time": "2022-03-21T18:27:35.618642Z"
    }
   },
   "outputs": [],
   "source": [
    "import importlib\n",
    "import inconsistency_detection\n",
    "from inconsistency_detection import inconsistency_detection"
   ]
  },
  {
   "cell_type": "code",
   "execution_count": 28,
   "id": "cde6a949",
   "metadata": {
    "ExecuteTime": {
     "end_time": "2022-03-21T18:29:10.090424Z",
     "start_time": "2022-03-21T18:29:10.083953Z"
    }
   },
   "outputs": [],
   "source": [
    "from tqdm.notebook import tqdm"
   ]
  },
  {
   "cell_type": "code",
   "execution_count": null,
   "id": "26599f07",
   "metadata": {},
   "outputs": [],
   "source": [
    "detected_idx = []\n",
    "for idx, log_record in tqdm(enumerate(logs_to_check)):\n",
    "    log_id = log_record[4]\n",
    "    log_content_relation = logs_realtion[idx]\n",
    "    log_text = logs_text[idx]\n",
    "    if log_content_relation is not None:\n",
    "        try:\n",
    "            res = inconsistency_detection(log_content_relation, log_id, log_text)\n",
    "            if res:\n",
    "                detected_idx.append(idx)\n",
    "        except Exception as e:\n",
    "            continue"
   ]
  },
  {
   "cell_type": "markdown",
   "id": "3e5f7b4c",
   "metadata": {},
   "source": [
    "## Analyze the manually labeled data"
   ]
  },
  {
   "cell_type": "code",
   "execution_count": 29,
   "id": "f04ce602",
   "metadata": {
    "ExecuteTime": {
     "end_time": "2022-03-21T18:39:46.993692Z",
     "start_time": "2022-03-21T18:39:46.964574Z"
    }
   },
   "outputs": [],
   "source": [
    "pickle_path = \"../data/ground_truth.csv\"\n",
    "incorrect_logs = pd.read_csv(pickle_path)"
   ]
  },
  {
   "cell_type": "code",
   "execution_count": 30,
   "id": "2e122ce4",
   "metadata": {
    "ExecuteTime": {
     "end_time": "2022-03-21T18:39:51.419315Z",
     "start_time": "2022-03-21T18:39:51.400388Z"
    }
   },
   "outputs": [
    {
     "data": {
      "text/html": [
       "<div>\n",
       "<style scoped>\n",
       "    .dataframe tbody tr th:only-of-type {\n",
       "        vertical-align: middle;\n",
       "    }\n",
       "\n",
       "    .dataframe tbody tr th {\n",
       "        vertical-align: top;\n",
       "    }\n",
       "\n",
       "    .dataframe thead th {\n",
       "        text-align: right;\n",
       "    }\n",
       "</style>\n",
       "<table border=\"1\" class=\"dataframe\">\n",
       "  <thead>\n",
       "    <tr style=\"text-align: right;\">\n",
       "      <th></th>\n",
       "      <th>Project</th>\n",
       "      <th>Log ID</th>\n",
       "      <th>Log</th>\n",
       "      <th>Log level</th>\n",
       "      <th>Log URL</th>\n",
       "      <th>Log content relation</th>\n",
       "      <th>Log-code relation</th>\n",
       "    </tr>\n",
       "  </thead>\n",
       "  <tbody>\n",
       "    <tr>\n",
       "      <th>0</th>\n",
       "      <td>jmeter</td>\n",
       "      <td>13682</td>\n",
       "      <td>log.warn(\"Existing CookieManager {} superseded...</td>\n",
       "      <td>warn</td>\n",
       "      <td>https://github.com/apache/jmeter/blob/master/s...</td>\n",
       "      <td>after</td>\n",
       "      <td>before</td>\n",
       "    </tr>\n",
       "    <tr>\n",
       "      <th>1</th>\n",
       "      <td>activemq</td>\n",
       "      <td>18247</td>\n",
       "      <td>LOG.debug(\"Session {} closed\", getSessionId())</td>\n",
       "      <td>debug</td>\n",
       "      <td>https://github.com/apache/activemq/blob/b3c2c4...</td>\n",
       "      <td>after</td>\n",
       "      <td>before</td>\n",
       "    </tr>\n",
       "    <tr>\n",
       "      <th>2</th>\n",
       "      <td>hadoop</td>\n",
       "      <td>13139</td>\n",
       "      <td>LOG.info(\"Local service \" + localTarget + \" en...</td>\n",
       "      <td>info</td>\n",
       "      <td>https://github.com/apache/hadoop/blob/dbd255f4...</td>\n",
       "      <td>after</td>\n",
       "      <td>meets/starts</td>\n",
       "    </tr>\n",
       "    <tr>\n",
       "      <th>3</th>\n",
       "      <td>jmeter</td>\n",
       "      <td>13683</td>\n",
       "      <td>log.warn(\"Existing KeystoreConfig {} supersede...</td>\n",
       "      <td>warn</td>\n",
       "      <td>https://github.com/apache/jmeter/blob/659c1ff5...</td>\n",
       "      <td>after</td>\n",
       "      <td>meets/starts</td>\n",
       "    </tr>\n",
       "    <tr>\n",
       "      <th>4</th>\n",
       "      <td>jmeter</td>\n",
       "      <td>13679</td>\n",
       "      <td>log.warn(\"Existing AuthManager {} superseded b...</td>\n",
       "      <td>warn</td>\n",
       "      <td>https://github.com/apache/jmeter/blob/659c1ff5...</td>\n",
       "      <td>after</td>\n",
       "      <td>meets/starts</td>\n",
       "    </tr>\n",
       "    <tr>\n",
       "      <th>5</th>\n",
       "      <td>jmeter</td>\n",
       "      <td>15098</td>\n",
       "      <td>log.info(\"Thread started: {}\", Thread.currentT...</td>\n",
       "      <td>info</td>\n",
       "      <td>https://github.com/apache/jmeter/blob/659c1ff5...</td>\n",
       "      <td>after</td>\n",
       "      <td>before</td>\n",
       "    </tr>\n",
       "    <tr>\n",
       "      <th>6</th>\n",
       "      <td>activemq</td>\n",
       "      <td>19714</td>\n",
       "      <td>LOG.debug(\"Stopped {}\", this)</td>\n",
       "      <td>debug</td>\n",
       "      <td>https://github.com/apache/activemq/blob/b3c2c4...</td>\n",
       "      <td>after</td>\n",
       "      <td>meets/starts</td>\n",
       "    </tr>\n",
       "    <tr>\n",
       "      <th>7</th>\n",
       "      <td>activemq</td>\n",
       "      <td>18092</td>\n",
       "      <td>LOG.info(\"Stopped KahaDB\")</td>\n",
       "      <td>info</td>\n",
       "      <td>https://github.com/apache/activemq/blob/b3c2c4...</td>\n",
       "      <td>after</td>\n",
       "      <td>meets/starts</td>\n",
       "    </tr>\n",
       "    <tr>\n",
       "      <th>8</th>\n",
       "      <td>activemq</td>\n",
       "      <td>17814</td>\n",
       "      <td>LOG.debug(\"Stopped recover next messages\")</td>\n",
       "      <td>debug</td>\n",
       "      <td>https://github.com/apache/activemq/blob/b3c2c4...</td>\n",
       "      <td>after</td>\n",
       "      <td>meets/starts</td>\n",
       "    </tr>\n",
       "    <tr>\n",
       "      <th>9</th>\n",
       "      <td>hadoop</td>\n",
       "      <td>287</td>\n",
       "      <td>log.info(\"Reading config from: \" + configFile....</td>\n",
       "      <td>info</td>\n",
       "      <td>https://github.com/apache/hadoop/blob/trunk/ha...</td>\n",
       "      <td>meets/starts</td>\n",
       "      <td>after</td>\n",
       "    </tr>\n",
       "    <tr>\n",
       "      <th>10</th>\n",
       "      <td>hadoop</td>\n",
       "      <td>8246</td>\n",
       "      <td>LOG.debug(\"Writing out partial crc for data le...</td>\n",
       "      <td>debug</td>\n",
       "      <td>https://github.com/apache/hadoop/blob/dbd255f4...</td>\n",
       "      <td>meets/starts</td>\n",
       "      <td>met-by/finishes</td>\n",
       "    </tr>\n",
       "    <tr>\n",
       "      <th>11</th>\n",
       "      <td>hadoop</td>\n",
       "      <td>9628</td>\n",
       "      <td>LOGGER.warn(\"Delete resource skylines for {}.\"...</td>\n",
       "      <td>warn</td>\n",
       "      <td>https://github.com/apache/hadoop/blob/dbd255f4...</td>\n",
       "      <td>meets/starts</td>\n",
       "      <td>met-by/finishes</td>\n",
       "    </tr>\n",
       "    <tr>\n",
       "      <th>12</th>\n",
       "      <td>hadoop</td>\n",
       "      <td>921</td>\n",
       "      <td>LOG.info(\"Instantiating AHSWebApp at \" + getPo...</td>\n",
       "      <td>info</td>\n",
       "      <td>https://github.com/apache/hadoop/blob/dbd255f4...</td>\n",
       "      <td>meets/starts</td>\n",
       "      <td>met-by/finishes</td>\n",
       "    </tr>\n",
       "    <tr>\n",
       "      <th>13</th>\n",
       "      <td>hadoop</td>\n",
       "      <td>3286</td>\n",
       "      <td>LOG.debug(\"Request for appInfo of unknown atte...</td>\n",
       "      <td>debug</td>\n",
       "      <td>https://github.com/apache/hadoop/blob/dbd255f4...</td>\n",
       "      <td>meets/starts</td>\n",
       "      <td>met-by/finishes</td>\n",
       "    </tr>\n",
       "    <tr>\n",
       "      <th>14</th>\n",
       "      <td>jmeter</td>\n",
       "      <td>13960</td>\n",
       "      <td>log.debug(\"Setting transaction isolation: {}@{...</td>\n",
       "      <td>debug</td>\n",
       "      <td>https://github.com/apache/jmeter/blob/659c1ff5...</td>\n",
       "      <td>meets/starts</td>\n",
       "      <td>met-by/finishes</td>\n",
       "    </tr>\n",
       "    <tr>\n",
       "      <th>15</th>\n",
       "      <td>tomcat</td>\n",
       "      <td>15888</td>\n",
       "      <td>log.trace(\"Adding event to selector:\" + event)</td>\n",
       "      <td>trace</td>\n",
       "      <td>https://github.com/apache/tomcat/blob/0f2e084d...</td>\n",
       "      <td>meets/starts</td>\n",
       "      <td>met-by/finishes</td>\n",
       "    </tr>\n",
       "    <tr>\n",
       "      <th>16</th>\n",
       "      <td>activemq</td>\n",
       "      <td>18889</td>\n",
       "      <td>LOG.error(\"Trying to get Root Broker\", e)</td>\n",
       "      <td>error</td>\n",
       "      <td>https://github.com/apache/activemq/blob/b3c2c4...</td>\n",
       "      <td>meets/starts</td>\n",
       "      <td>met-by/finishes</td>\n",
       "    </tr>\n",
       "    <tr>\n",
       "      <th>17</th>\n",
       "      <td>hadoop</td>\n",
       "      <td>1079</td>\n",
       "      <td>LOG.info(\"Insert into the state store the poli...</td>\n",
       "      <td>info</td>\n",
       "      <td>https://github.com/apache/hadoop/blob/dbd255f4...</td>\n",
       "      <td>meets/starts</td>\n",
       "      <td>after</td>\n",
       "    </tr>\n",
       "    <tr>\n",
       "      <th>18</th>\n",
       "      <td>activemq</td>\n",
       "      <td>19169</td>\n",
       "      <td>LOG.trace(\"{}, bridging messages for static de...</td>\n",
       "      <td>trace</td>\n",
       "      <td>https://github.com/apache/activemq/blob/b3c2c4...</td>\n",
       "      <td>meets/starts</td>\n",
       "      <td>after</td>\n",
       "    </tr>\n",
       "    <tr>\n",
       "      <th>19</th>\n",
       "      <td>activemq</td>\n",
       "      <td>19020</td>\n",
       "      <td>LOG.info(\"Installing StaticsBroker\")</td>\n",
       "      <td>info</td>\n",
       "      <td>https://github.com/apache/activemq/blob/b3c2c4...</td>\n",
       "      <td>meets/starts</td>\n",
       "      <td>met-by/finishes</td>\n",
       "    </tr>\n",
       "    <tr>\n",
       "      <th>20</th>\n",
       "      <td>hadoop</td>\n",
       "      <td>10552</td>\n",
       "      <td>LOG.info(\"Creating temp file: {}\", tempFile)</td>\n",
       "      <td>info</td>\n",
       "      <td>https://github.com/apache/hadoop/blob/dbd255f4...</td>\n",
       "      <td>meets/starts</td>\n",
       "      <td>met-by/finishes</td>\n",
       "    </tr>\n",
       "    <tr>\n",
       "      <th>21</th>\n",
       "      <td>hadoop</td>\n",
       "      <td>12129</td>\n",
       "      <td>LOG.debug(\"Key with path [\" + nodeCreatePath +...</td>\n",
       "      <td>debug</td>\n",
       "      <td>https://github.com/apache/hadoop/blob/dbd255f4...</td>\n",
       "      <td>meets/starts</td>\n",
       "      <td>after</td>\n",
       "    </tr>\n",
       "    <tr>\n",
       "      <th>22</th>\n",
       "      <td>jmeter</td>\n",
       "      <td>14034</td>\n",
       "      <td>log.debug(\"Adding '{}' tag with '{}' value \", ...</td>\n",
       "      <td>debug</td>\n",
       "      <td>https://github.com/apache/jmeter/blob/659c1ff5...</td>\n",
       "      <td>meets/starts</td>\n",
       "      <td>met-by/finishes</td>\n",
       "    </tr>\n",
       "    <tr>\n",
       "      <th>23</th>\n",
       "      <td>hadoop</td>\n",
       "      <td>12515</td>\n",
       "      <td>LOG.info(\"Adding a new node: \" + NodeBase.getP...</td>\n",
       "      <td>info</td>\n",
       "      <td>https://github.com/apache/hadoop/blob/dbd255f4...</td>\n",
       "      <td>meets/starts</td>\n",
       "      <td>met-by/finishes</td>\n",
       "    </tr>\n",
       "    <tr>\n",
       "      <th>24</th>\n",
       "      <td>hadoop</td>\n",
       "      <td>7704</td>\n",
       "      <td>LOG.info(\"Starting plan for Node : {}:{}\", nod...</td>\n",
       "      <td>info</td>\n",
       "      <td>https://github.com/apache/hadoop/blob/dbd255f4...</td>\n",
       "      <td>meets/starts</td>\n",
       "      <td>met-by/finishes</td>\n",
       "    </tr>\n",
       "    <tr>\n",
       "      <th>25</th>\n",
       "      <td>hadoop</td>\n",
       "      <td>2348</td>\n",
       "      <td>LOG.info(\"Directory \" + dir + \" passed disk ch...</td>\n",
       "      <td>info</td>\n",
       "      <td>https://github.com/apache/hadoop/blob/dbd255f4...</td>\n",
       "      <td>meets/starts</td>\n",
       "      <td>after</td>\n",
       "    </tr>\n",
       "    <tr>\n",
       "      <th>26</th>\n",
       "      <td>activemq</td>\n",
       "      <td>18723</td>\n",
       "      <td>LOG.info(\"Get Destinations: {}\", destinations)</td>\n",
       "      <td>info</td>\n",
       "      <td>https://github.com/apache/activemq/blob/b3c2c4...</td>\n",
       "      <td>meets/starts</td>\n",
       "      <td>after</td>\n",
       "    </tr>\n",
       "    <tr>\n",
       "      <th>27</th>\n",
       "      <td>tomcat</td>\n",
       "      <td>16476</td>\n",
       "      <td>log.trace(\"Request Attribute: \" + attr + \": [ ...</td>\n",
       "      <td>trace</td>\n",
       "      <td>https://github.com/apache/tomcat/blob/0f2e084d...</td>\n",
       "      <td>meets/starts</td>\n",
       "      <td>met-by/finishes</td>\n",
       "    </tr>\n",
       "    <tr>\n",
       "      <th>28</th>\n",
       "      <td>jmeter</td>\n",
       "      <td>14283</td>\n",
       "      <td>log.warn(\"{} is attempting to use nonexistent ...</td>\n",
       "      <td>warn</td>\n",
       "      <td>https://github.com/apache/jmeter/blob/659c1ff5...</td>\n",
       "      <td>meets/starts</td>\n",
       "      <td>before</td>\n",
       "    </tr>\n",
       "    <tr>\n",
       "      <th>29</th>\n",
       "      <td>hadoop</td>\n",
       "      <td>3809</td>\n",
       "      <td>LOG.info(\"Update RMDT with sequence number \" +...</td>\n",
       "      <td>info</td>\n",
       "      <td>https://github.com/apache/hadoop/blob/dbd255f4...</td>\n",
       "      <td>before</td>\n",
       "      <td>met-by/finishes</td>\n",
       "    </tr>\n",
       "    <tr>\n",
       "      <th>30</th>\n",
       "      <td>tomcat</td>\n",
       "      <td>16300</td>\n",
       "      <td>log.info(sm.getString(\"jvmRoute.valve.started\"))</td>\n",
       "      <td>info</td>\n",
       "      <td>https://github.com/apache/tomcat/blob/0f2e084d...</td>\n",
       "      <td>after</td>\n",
       "      <td>before</td>\n",
       "    </tr>\n",
       "    <tr>\n",
       "      <th>31</th>\n",
       "      <td>hadoop</td>\n",
       "      <td>5808</td>\n",
       "      <td>LOG.debug(\"Change nextOffset (after trim) to {...</td>\n",
       "      <td>debug</td>\n",
       "      <td>https://github.com/apache/hadoop/blob/dbd255f4...</td>\n",
       "      <td>before</td>\n",
       "      <td>met-by/finishes</td>\n",
       "    </tr>\n",
       "    <tr>\n",
       "      <th>32</th>\n",
       "      <td>tomcat</td>\n",
       "      <td>15878</td>\n",
       "      <td>log.trace(\"Registering key for read:\" + key)</td>\n",
       "      <td>trace</td>\n",
       "      <td>https://github.com/apache/tomcat/blob/0f2e084d...</td>\n",
       "      <td>meets/starts</td>\n",
       "      <td>met-by/finishes</td>\n",
       "    </tr>\n",
       "  </tbody>\n",
       "</table>\n",
       "</div>"
      ],
      "text/plain": [
       "     Project  Log ID                                                Log  \\\n",
       "0     jmeter   13682  log.warn(\"Existing CookieManager {} superseded...   \n",
       "1   activemq   18247     LOG.debug(\"Session {} closed\", getSessionId())   \n",
       "2     hadoop   13139  LOG.info(\"Local service \" + localTarget + \" en...   \n",
       "3     jmeter   13683  log.warn(\"Existing KeystoreConfig {} supersede...   \n",
       "4     jmeter   13679  log.warn(\"Existing AuthManager {} superseded b...   \n",
       "5     jmeter   15098  log.info(\"Thread started: {}\", Thread.currentT...   \n",
       "6   activemq   19714                      LOG.debug(\"Stopped {}\", this)   \n",
       "7   activemq   18092                         LOG.info(\"Stopped KahaDB\")   \n",
       "8   activemq   17814         LOG.debug(\"Stopped recover next messages\")   \n",
       "9     hadoop     287  log.info(\"Reading config from: \" + configFile....   \n",
       "10    hadoop    8246  LOG.debug(\"Writing out partial crc for data le...   \n",
       "11    hadoop    9628  LOGGER.warn(\"Delete resource skylines for {}.\"...   \n",
       "12    hadoop     921  LOG.info(\"Instantiating AHSWebApp at \" + getPo...   \n",
       "13    hadoop    3286  LOG.debug(\"Request for appInfo of unknown atte...   \n",
       "14    jmeter   13960  log.debug(\"Setting transaction isolation: {}@{...   \n",
       "15    tomcat   15888     log.trace(\"Adding event to selector:\" + event)   \n",
       "16  activemq   18889          LOG.error(\"Trying to get Root Broker\", e)   \n",
       "17    hadoop    1079  LOG.info(\"Insert into the state store the poli...   \n",
       "18  activemq   19169  LOG.trace(\"{}, bridging messages for static de...   \n",
       "19  activemq   19020               LOG.info(\"Installing StaticsBroker\")   \n",
       "20    hadoop   10552       LOG.info(\"Creating temp file: {}\", tempFile)   \n",
       "21    hadoop   12129  LOG.debug(\"Key with path [\" + nodeCreatePath +...   \n",
       "22    jmeter   14034  log.debug(\"Adding '{}' tag with '{}' value \", ...   \n",
       "23    hadoop   12515  LOG.info(\"Adding a new node: \" + NodeBase.getP...   \n",
       "24    hadoop    7704  LOG.info(\"Starting plan for Node : {}:{}\", nod...   \n",
       "25    hadoop    2348  LOG.info(\"Directory \" + dir + \" passed disk ch...   \n",
       "26  activemq   18723     LOG.info(\"Get Destinations: {}\", destinations)   \n",
       "27    tomcat   16476  log.trace(\"Request Attribute: \" + attr + \": [ ...   \n",
       "28    jmeter   14283  log.warn(\"{} is attempting to use nonexistent ...   \n",
       "29    hadoop    3809  LOG.info(\"Update RMDT with sequence number \" +...   \n",
       "30    tomcat   16300   log.info(sm.getString(\"jvmRoute.valve.started\"))   \n",
       "31    hadoop    5808  LOG.debug(\"Change nextOffset (after trim) to {...   \n",
       "32    tomcat   15878       log.trace(\"Registering key for read:\" + key)   \n",
       "\n",
       "   Log level                                            Log URL  \\\n",
       "0       warn  https://github.com/apache/jmeter/blob/master/s...   \n",
       "1      debug  https://github.com/apache/activemq/blob/b3c2c4...   \n",
       "2       info  https://github.com/apache/hadoop/blob/dbd255f4...   \n",
       "3       warn  https://github.com/apache/jmeter/blob/659c1ff5...   \n",
       "4       warn  https://github.com/apache/jmeter/blob/659c1ff5...   \n",
       "5       info  https://github.com/apache/jmeter/blob/659c1ff5...   \n",
       "6      debug  https://github.com/apache/activemq/blob/b3c2c4...   \n",
       "7       info  https://github.com/apache/activemq/blob/b3c2c4...   \n",
       "8      debug  https://github.com/apache/activemq/blob/b3c2c4...   \n",
       "9       info  https://github.com/apache/hadoop/blob/trunk/ha...   \n",
       "10     debug  https://github.com/apache/hadoop/blob/dbd255f4...   \n",
       "11      warn  https://github.com/apache/hadoop/blob/dbd255f4...   \n",
       "12      info  https://github.com/apache/hadoop/blob/dbd255f4...   \n",
       "13     debug  https://github.com/apache/hadoop/blob/dbd255f4...   \n",
       "14     debug  https://github.com/apache/jmeter/blob/659c1ff5...   \n",
       "15     trace  https://github.com/apache/tomcat/blob/0f2e084d...   \n",
       "16     error  https://github.com/apache/activemq/blob/b3c2c4...   \n",
       "17      info  https://github.com/apache/hadoop/blob/dbd255f4...   \n",
       "18     trace  https://github.com/apache/activemq/blob/b3c2c4...   \n",
       "19      info  https://github.com/apache/activemq/blob/b3c2c4...   \n",
       "20      info  https://github.com/apache/hadoop/blob/dbd255f4...   \n",
       "21     debug  https://github.com/apache/hadoop/blob/dbd255f4...   \n",
       "22     debug  https://github.com/apache/jmeter/blob/659c1ff5...   \n",
       "23      info  https://github.com/apache/hadoop/blob/dbd255f4...   \n",
       "24      info  https://github.com/apache/hadoop/blob/dbd255f4...   \n",
       "25      info  https://github.com/apache/hadoop/blob/dbd255f4...   \n",
       "26      info  https://github.com/apache/activemq/blob/b3c2c4...   \n",
       "27     trace  https://github.com/apache/tomcat/blob/0f2e084d...   \n",
       "28      warn  https://github.com/apache/jmeter/blob/659c1ff5...   \n",
       "29      info  https://github.com/apache/hadoop/blob/dbd255f4...   \n",
       "30      info  https://github.com/apache/tomcat/blob/0f2e084d...   \n",
       "31     debug  https://github.com/apache/hadoop/blob/dbd255f4...   \n",
       "32     trace  https://github.com/apache/tomcat/blob/0f2e084d...   \n",
       "\n",
       "   Log content relation Log-code relation  \n",
       "0                 after            before  \n",
       "1                 after            before  \n",
       "2                 after      meets/starts  \n",
       "3                 after      meets/starts  \n",
       "4                 after      meets/starts  \n",
       "5                 after            before  \n",
       "6                 after      meets/starts  \n",
       "7                 after      meets/starts  \n",
       "8                 after      meets/starts  \n",
       "9          meets/starts             after  \n",
       "10         meets/starts   met-by/finishes  \n",
       "11         meets/starts   met-by/finishes  \n",
       "12         meets/starts   met-by/finishes  \n",
       "13         meets/starts   met-by/finishes  \n",
       "14         meets/starts   met-by/finishes  \n",
       "15         meets/starts   met-by/finishes  \n",
       "16         meets/starts   met-by/finishes  \n",
       "17         meets/starts             after  \n",
       "18         meets/starts             after  \n",
       "19         meets/starts   met-by/finishes  \n",
       "20         meets/starts   met-by/finishes  \n",
       "21         meets/starts             after  \n",
       "22         meets/starts   met-by/finishes  \n",
       "23         meets/starts   met-by/finishes  \n",
       "24         meets/starts   met-by/finishes  \n",
       "25         meets/starts             after  \n",
       "26         meets/starts             after  \n",
       "27         meets/starts   met-by/finishes  \n",
       "28         meets/starts            before  \n",
       "29               before   met-by/finishes  \n",
       "30                after            before  \n",
       "31               before   met-by/finishes  \n",
       "32         meets/starts   met-by/finishes  "
      ]
     },
     "execution_count": 30,
     "metadata": {},
     "output_type": "execute_result"
    }
   ],
   "source": [
    "incorrect_logs"
   ]
  },
  {
   "cell_type": "code",
   "execution_count": 31,
   "id": "0084ee7a",
   "metadata": {
    "ExecuteTime": {
     "end_time": "2022-03-21T18:40:11.466832Z",
     "start_time": "2022-03-21T18:40:11.456746Z"
    }
   },
   "outputs": [
    {
     "data": {
      "text/plain": [
       "(33, 13682)"
      ]
     },
     "execution_count": 31,
     "metadata": {},
     "output_type": "execute_result"
    }
   ],
   "source": [
    "incorrect_logs_ids = list(incorrect_logs['Log ID'])\n",
    "len(incorrect_logs_ids), incorrect_logs_ids[0]"
   ]
  },
  {
   "cell_type": "code",
   "execution_count": 32,
   "id": "c8dabd6d",
   "metadata": {
    "ExecuteTime": {
     "end_time": "2022-03-21T18:40:18.036183Z",
     "start_time": "2022-03-21T18:40:18.027811Z"
    }
   },
   "outputs": [],
   "source": [
    "def fetch_log_context_by_log_id(log_id):\n",
    "    cur = conn.cursor()\n",
    "    sql = \"SELECT * FROM log_statements_for_log_code_inconsistency_detection WHERE id=%s;\"\n",
    "    cur.execute(sql, (log_id,))\n",
    "    rows = cur.fetchall()\n",
    "    cur.close()\n",
    "    return rows"
   ]
  },
  {
   "cell_type": "code",
   "execution_count": 33,
   "id": "35a49f0d",
   "metadata": {
    "ExecuteTime": {
     "end_time": "2022-03-21T18:40:37.852747Z",
     "start_time": "2022-03-21T18:40:37.826562Z"
    }
   },
   "outputs": [],
   "source": [
    "logs_to_check = []\n",
    "for incorrect_logs_id in incorrect_logs_ids:\n",
    "    logs_to_check += fetch_log_context_by_log_id(incorrect_logs_id)"
   ]
  },
  {
   "cell_type": "code",
   "execution_count": 34,
   "id": "3e055c15",
   "metadata": {
    "ExecuteTime": {
     "end_time": "2022-03-21T18:40:39.528047Z",
     "start_time": "2022-03-21T18:40:39.522081Z"
    }
   },
   "outputs": [
    {
     "data": {
      "text/plain": [
       "(33,\n",
       " ('jmeter/src/protocol/http/src/main/java/org/apache/jmeter/protocol/http/sampler/HTTPSamplerBase.java',\n",
       "  'log.warn(\"Existing CookieManager {} superseded by {}\", mgr.getName(), value.getName())',\n",
       "  954,\n",
       "  954,\n",
       "  13682,\n",
       "  None,\n",
       "  954,\n",
       "  954,\n",
       "  26,\n",
       "  69,\n",
       "  'jmeter',\n",
       "  None))"
      ]
     },
     "execution_count": 34,
     "metadata": {},
     "output_type": "execute_result"
    }
   ],
   "source": [
    "len(logs_to_check), logs_to_check[0]"
   ]
  },
  {
   "cell_type": "code",
   "execution_count": 35,
   "id": "64718352",
   "metadata": {
    "ExecuteTime": {
     "end_time": "2022-03-21T18:41:03.666393Z",
     "start_time": "2022-03-21T18:41:01.348195Z"
    }
   },
   "outputs": [],
   "source": [
    "log_stat_records = [x[1] for x in logs_to_check]\n",
    "logs_text = [extract_text_from_log_stat(all_local_strings, x) for x in log_stat_records]"
   ]
  },
  {
   "cell_type": "code",
   "execution_count": 36,
   "id": "6e6ea15b",
   "metadata": {
    "ExecuteTime": {
     "end_time": "2022-03-21T18:41:23.017071Z",
     "start_time": "2022-03-21T18:41:21.943772Z"
    }
   },
   "outputs": [
    {
     "data": {
      "application/vnd.jupyter.widget-view+json": {
       "model_id": "2b9f02ec140c4f04bcddf17c927eb839",
       "version_major": 2,
       "version_minor": 0
      },
      "text/plain": [
       "  0%|          | 0/33 [00:00<?, ?it/s]"
      ]
     },
     "metadata": {},
     "output_type": "display_data"
    }
   ],
   "source": [
    "logs_realtion = []\n",
    "for x in tqdm(logs_text):\n",
    "    logs_realtion.append(get_log_content_rel(x))"
   ]
  },
  {
   "cell_type": "code",
   "execution_count": 37,
   "id": "60e6f4ed",
   "metadata": {
    "ExecuteTime": {
     "end_time": "2022-03-21T18:41:29.195574Z",
     "start_time": "2022-03-21T18:41:29.189888Z"
    }
   },
   "outputs": [
    {
     "data": {
      "text/plain": [
       "(33,\n",
       " ['after',\n",
       "  'after',\n",
       "  'after',\n",
       "  'after',\n",
       "  'after',\n",
       "  'after',\n",
       "  'after',\n",
       "  'after',\n",
       "  'after',\n",
       "  'meets/starts',\n",
       "  'meets/starts',\n",
       "  'meets/starts',\n",
       "  'meets/starts',\n",
       "  'meets/starts',\n",
       "  'meets/starts',\n",
       "  'meets/starts',\n",
       "  'meets/starts',\n",
       "  'meets/starts',\n",
       "  'meets/starts',\n",
       "  'meets/starts',\n",
       "  'meets/starts',\n",
       "  'meets/starts',\n",
       "  'meets/starts',\n",
       "  'meets/starts',\n",
       "  'meets/starts',\n",
       "  'meets/starts',\n",
       "  'meets/starts',\n",
       "  None,\n",
       "  'meets/starts',\n",
       "  'meets/starts',\n",
       "  'after',\n",
       "  'meets/starts',\n",
       "  None])"
      ]
     },
     "execution_count": 37,
     "metadata": {},
     "output_type": "execute_result"
    }
   ],
   "source": [
    "# None means error detection of spaCy\n",
    "len(logs_realtion), logs_realtion"
   ]
  },
  {
   "cell_type": "code",
   "execution_count": 38,
   "id": "43bcfa57",
   "metadata": {
    "ExecuteTime": {
     "end_time": "2022-03-21T18:42:34.234517Z",
     "start_time": "2022-03-21T18:42:18.416752Z"
    },
    "scrolled": true
   },
   "outputs": [
    {
     "data": {
      "application/vnd.jupyter.widget-view+json": {
       "model_id": "ac7d78b8a4ae4725be1fd72c89b697c0",
       "version_major": 2,
       "version_minor": 0
      },
      "text/plain": [
       "0it [00:00, ?it/s]"
      ]
     },
     "metadata": {},
     "output_type": "display_data"
    },
    {
     "name": "stdout",
     "output_type": "stream",
     "text": [
      "superseded\n",
      "Existing CookieManager VID superseded by VID\n",
      "Detected by Rule 2.\n",
      "closed\n",
      "Session VID closed\n",
      "Detected by Rule 1.\n",
      "entered\n",
      "Local service VID entered state: VID\n",
      "Detected by Rule 1.\n",
      "superseded\n",
      "Existing KeystoreConfig VID superseded by VID\n",
      "Detected by Rule 2.\n",
      "superseded\n",
      "Existing AuthManager VID superseded by VID\n",
      "Detected by Rule 2.\n",
      "started\n",
      "Thread started: VID\n",
      "Detected by Rule 2.\n",
      "Stopped\n",
      "Stopped VID\n",
      "Detected by Rule 13-0.\n",
      "Stopped\n",
      "Stopped KahaDB\n",
      "Detected by Rule 2.\n",
      "Stopped\n",
      "Stopped recover next messages\n",
      "Detected by Rule 3.\n",
      "writing\n",
      "writing to: VID\n",
      "Detected by Rule 4.\n",
      "Writing\n",
      "Writing out partial crc for data len VID ,\n",
      "Detected by Rule 8.\n",
      "Delete\n",
      "Delete resource skylines for VID .\n",
      "Detected by Rule 6.\n",
      "Instantiating\n",
      "Instantiating AHSWebApp at VID\n",
      "Detected by Rule 6.\n",
      "Request\n",
      "Request for appInfo of unknown attempt VID\n",
      "Setting\n",
      "Setting transaction isolation: VID @ VID\n",
      "Detected by Rule 6.\n",
      "Adding\n",
      "Adding event to selector: VID\n",
      "Detected by Rule 8.\n",
      "Trying\n",
      "Trying to get Root Broker\n",
      "Detected by Rule 8.\n",
      "Insert\n",
      "Insert into the state store the policy for the queue: VID\n",
      "Detected by Rule 8.\n",
      "bridging\n",
      "bridging\n",
      "Detected by Rule 6.\n",
      "Installing\n",
      "Installing StaticsBroker\n",
      "Detected by Rule 5.\n",
      "Creating\n",
      "Creating temp file: VID\n",
      "Detected by Rule 5.\n",
      "Updating\n",
      "Updating !!\n",
      "Adding\n",
      "Adding ' VID ' tag with ' VID ' value\n",
      "Detected by Rule 6.\n",
      "Adding\n",
      "Adding a new node: VID\n",
      "Detected by Rule 8.\n",
      "Starting\n",
      "Starting plan for Node : VID : VID\n",
      "adding\n",
      "adding to list of valid directories\n",
      "Detected by Rule 6.\n",
      "Get\n",
      "Get Destinations: VID\n",
      "Detected by Rule 8.\n",
      "attempting\n",
      " VID is attempting to use nonexistent VID\n",
      "Detected by Rule 5.\n",
      "Update\n",
      "Update RMDT with sequence number VID\n",
      "started\n",
      "JvmRouteBinderValve started\n",
      "Change\n",
      "Change nextOffset (after trim) to VID\n",
      "Detected by Rule 8.\n"
     ]
    }
   ],
   "source": [
    "detected_idx_1 = []\n",
    "for idx, log_record in tqdm(enumerate(logs_to_check)):\n",
    "    log_id = log_record[4]\n",
    "    log_content_relation = logs_realtion[idx]\n",
    "    log_text = logs_text[idx]\n",
    "    if log_content_relation is not None:\n",
    "        try:\n",
    "            res = inconsistency_detection(log_content_relation, log_id, log_text)\n",
    "            if res:\n",
    "                detected_idx_1.append(idx)\n",
    "        except Exception as e:\n",
    "            continue"
   ]
  },
  {
   "cell_type": "code",
   "execution_count": 39,
   "id": "4d9e70b1",
   "metadata": {
    "ExecuteTime": {
     "end_time": "2022-03-21T18:42:40.623548Z",
     "start_time": "2022-03-21T18:42:40.617653Z"
    }
   },
   "outputs": [
    {
     "data": {
      "text/plain": [
       "26"
      ]
     },
     "execution_count": 39,
     "metadata": {},
     "output_type": "execute_result"
    }
   ],
   "source": [
    "len(detected_idx_1)"
   ]
  },
  {
   "cell_type": "code",
   "execution_count": 40,
   "id": "fd976c11",
   "metadata": {
    "ExecuteTime": {
     "end_time": "2022-03-21T18:42:44.554474Z",
     "start_time": "2022-03-21T18:42:44.549216Z"
    }
   },
   "outputs": [
    {
     "data": {
      "text/plain": [
       "0.7878787878787878"
      ]
     },
     "execution_count": 40,
     "metadata": {},
     "output_type": "execute_result"
    }
   ],
   "source": [
    "26/33"
   ]
  },
  {
   "cell_type": "markdown",
   "id": "10b329dc",
   "metadata": {},
   "source": [
    "## Analyze the commit history data"
   ]
  },
  {
   "cell_type": "code",
   "execution_count": 41,
   "id": "fb81078b",
   "metadata": {
    "ExecuteTime": {
     "end_time": "2022-03-21T18:45:34.227681Z",
     "start_time": "2022-03-21T18:45:34.221810Z"
    }
   },
   "outputs": [],
   "source": [
    "log_ids = [20678, 20686, 20716, 20730, 20732, 20734]"
   ]
  },
  {
   "cell_type": "code",
   "execution_count": 43,
   "id": "e5e3624e",
   "metadata": {
    "ExecuteTime": {
     "end_time": "2022-03-21T18:45:45.689400Z",
     "start_time": "2022-03-21T18:45:45.681951Z"
    }
   },
   "outputs": [],
   "source": [
    "def fetch_log_stat_by_log_id(log_id):\n",
    "    cur = conn.cursor()\n",
    "    sql = \"SELECT * FROM log_statements_for_log_code_inconsistency_detection WHERE id=%s;\"\n",
    "    cur.execute(sql, (log_id,))\n",
    "    rows = cur.fetchall()\n",
    "    cur.close()\n",
    "    return rows"
   ]
  },
  {
   "cell_type": "code",
   "execution_count": 44,
   "id": "54117811",
   "metadata": {
    "ExecuteTime": {
     "end_time": "2022-03-21T18:45:46.353242Z",
     "start_time": "2022-03-21T18:45:46.345804Z"
    }
   },
   "outputs": [],
   "source": [
    "logs_to_check = []\n",
    "for log_id in log_ids:\n",
    "    logs_to_check.append(fetch_log_stat_by_log_id(log_id)[0])"
   ]
  },
  {
   "cell_type": "code",
   "execution_count": 45,
   "id": "c1ac4997",
   "metadata": {
    "ExecuteTime": {
     "end_time": "2022-03-21T18:45:52.226475Z",
     "start_time": "2022-03-21T18:45:52.220654Z"
    }
   },
   "outputs": [
    {
     "data": {
      "text/plain": [
       "(6,\n",
       " ('jmeter/src/core/org/apache/jmeter/testelement/TestPlan.java',\n",
       "  'log.info(\"add \" + path + \" to classpath\")',\n",
       "  257,\n",
       "  257,\n",
       "  20678,\n",
       "  'dd40b8279a32d6ebadc5b4b8ded06dd67935f0af',\n",
       "  257,\n",
       "  257,\n",
       "  22,\n",
       "  52,\n",
       "  'jmeter',\n",
       "  'commit'))"
      ]
     },
     "execution_count": 45,
     "metadata": {},
     "output_type": "execute_result"
    }
   ],
   "source": [
    "len(logs_to_check), logs_to_check[0]"
   ]
  },
  {
   "cell_type": "code",
   "execution_count": 46,
   "id": "df37cf7e",
   "metadata": {
    "ExecuteTime": {
     "end_time": "2022-03-21T18:45:57.788619Z",
     "start_time": "2022-03-21T18:45:57.782637Z"
    }
   },
   "outputs": [],
   "source": [
    "log_stat_records = [x[1] for x in logs_to_check]"
   ]
  },
  {
   "cell_type": "code",
   "execution_count": 47,
   "id": "4ebc46fe",
   "metadata": {
    "ExecuteTime": {
     "end_time": "2022-03-21T18:46:02.459433Z",
     "start_time": "2022-03-21T18:46:02.448983Z"
    }
   },
   "outputs": [
    {
     "data": {
      "text/plain": [
       "(6, 'log.info(\"add \" + path + \" to classpath\")')"
      ]
     },
     "execution_count": 47,
     "metadata": {},
     "output_type": "execute_result"
    }
   ],
   "source": [
    "len(log_stat_records),log_stat_records[0]"
   ]
  },
  {
   "cell_type": "code",
   "execution_count": 49,
   "id": "f8b45e2c",
   "metadata": {
    "ExecuteTime": {
     "end_time": "2022-03-21T18:46:42.343134Z",
     "start_time": "2022-03-21T18:46:41.928254Z"
    }
   },
   "outputs": [],
   "source": [
    "logs_text = [extract_text_from_log_stat(all_local_strings, x) for x in log_stat_records]"
   ]
  },
  {
   "cell_type": "code",
   "execution_count": 50,
   "id": "ef09b7e2",
   "metadata": {
    "ExecuteTime": {
     "end_time": "2022-03-21T18:46:48.224917Z",
     "start_time": "2022-03-21T18:46:48.219479Z"
    }
   },
   "outputs": [
    {
     "data": {
      "text/plain": [
       "['add  VID  to classpath',\n",
       " 'Ending thread  VID',\n",
       " 'End : sample, redirects= VID',\n",
       " '***DB is being shutdown...',\n",
       " '========== finished  VID  ==========',\n",
       " 'Starting broker..']"
      ]
     },
     "execution_count": 50,
     "metadata": {},
     "output_type": "execute_result"
    }
   ],
   "source": [
    "logs_text"
   ]
  },
  {
   "cell_type": "code",
   "execution_count": 51,
   "id": "5acdf0cb",
   "metadata": {
    "ExecuteTime": {
     "end_time": "2022-03-21T18:47:06.658634Z",
     "start_time": "2022-03-21T18:47:06.458516Z"
    }
   },
   "outputs": [
    {
     "data": {
      "application/vnd.jupyter.widget-view+json": {
       "model_id": "7066cab476d044249efa12f4d2df00ec",
       "version_major": 2,
       "version_minor": 0
      },
      "text/plain": [
       "  0%|          | 0/6 [00:00<?, ?it/s]"
      ]
     },
     "metadata": {},
     "output_type": "display_data"
    }
   ],
   "source": [
    "logs_realtion = []\n",
    "for x in tqdm(logs_text):\n",
    "    logs_realtion.append(get_log_content_rel(x))"
   ]
  },
  {
   "cell_type": "code",
   "execution_count": 53,
   "id": "e7f59a03",
   "metadata": {
    "ExecuteTime": {
     "end_time": "2022-03-21T18:58:03.855525Z",
     "start_time": "2022-03-21T18:58:02.062810Z"
    }
   },
   "outputs": [
    {
     "data": {
      "application/vnd.jupyter.widget-view+json": {
       "model_id": "37d95fe573ef41ac89a9a01c57de8333",
       "version_major": 2,
       "version_minor": 0
      },
      "text/plain": [
       "0it [00:00, ?it/s]"
      ]
     },
     "metadata": {},
     "output_type": "display_data"
    },
    {
     "name": "stdout",
     "output_type": "stream",
     "text": [
      "add\n",
      "add VID to classpath\n",
      "Detected by Rule 4.\n",
      "Ending\n",
      "Ending thread VID\n",
      "redirects=\n",
      "redirects= VID\n",
      "Detected by Rule 0-0.\n",
      "shutdown\n",
      "***DB is being shutdown...\n",
      "Detected by Rule 8.\n",
      "Finished\n",
      "Finished vid\n",
      "Detected by Rule 1.\n",
      "Starting\n",
      "Starting broker..\n",
      "Detected by Rule 4.\n"
     ]
    }
   ],
   "source": [
    "detected_idx = []\n",
    "for idx, log_record in tqdm(enumerate(logs_to_check)):\n",
    "    log_id = log_record[4]\n",
    "    log_content_relation = logs_realtion[idx]\n",
    "    log_text = logs_text[idx]\n",
    "    if '========== ' in log_text:\n",
    "        log_text = log_text.strip('========== ').capitalize()\n",
    "    if log_content_relation is not None:\n",
    "        try:\n",
    "            if inconsistency_detection(log_content_relation, log_id, log_text):\n",
    "                detected_idx.append(idx)\n",
    "        except:\n",
    "            continue"
   ]
  },
  {
   "cell_type": "code",
   "execution_count": 54,
   "id": "2c08e1fc",
   "metadata": {
    "ExecuteTime": {
     "end_time": "2022-03-21T18:58:21.943924Z",
     "start_time": "2022-03-21T18:58:21.940290Z"
    }
   },
   "outputs": [
    {
     "data": {
      "text/plain": [
       "5"
      ]
     },
     "execution_count": 54,
     "metadata": {},
     "output_type": "execute_result"
    }
   ],
   "source": [
    "len(detected_idx)"
   ]
  },
  {
   "cell_type": "code",
   "execution_count": 55,
   "id": "196a6f9d",
   "metadata": {
    "ExecuteTime": {
     "end_time": "2022-03-21T18:58:25.042656Z",
     "start_time": "2022-03-21T18:58:25.037575Z"
    }
   },
   "outputs": [
    {
     "data": {
      "text/plain": [
       "0.8333333333333334"
      ]
     },
     "execution_count": 55,
     "metadata": {},
     "output_type": "execute_result"
    }
   ],
   "source": [
    "5/6"
   ]
  },
  {
   "cell_type": "code",
   "execution_count": null,
   "id": "7fc1ae8d",
   "metadata": {},
   "outputs": [],
   "source": []
  }
 ],
 "metadata": {
  "kernelspec": {
   "display_name": "Python 3",
   "language": "python",
   "name": "python3"
  },
  "language_info": {
   "codemirror_mode": {
    "name": "ipython",
    "version": 3
   },
   "file_extension": ".py",
   "mimetype": "text/x-python",
   "name": "python",
   "nbconvert_exporter": "python",
   "pygments_lexer": "ipython3",
   "version": "3.6.15"
  },
  "toc": {
   "base_numbering": 1,
   "nav_menu": {},
   "number_sections": true,
   "sideBar": true,
   "skip_h1_title": false,
   "title_cell": "Table of Contents",
   "title_sidebar": "Contents",
   "toc_cell": false,
   "toc_position": {
    "height": "calc(100% - 180px)",
    "left": "10px",
    "top": "150px",
    "width": "295.398px"
   },
   "toc_section_display": true,
   "toc_window_display": true
  }
 },
 "nbformat": 4,
 "nbformat_minor": 5
}
